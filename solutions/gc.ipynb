{
 "cells": [
  {
   "cell_type": "code",
   "execution_count": 1,
   "id": "588d7074",
   "metadata": {},
   "outputs": [],
   "source": [
    "def parseFASTA(fasta_path):\n",
    "    # Parses a FASTA file and returns a dictionary with sequence IDs as keys and sequences as values.\n",
    "    # @param fasta_path: Path to the FASTA file.\n",
    "    # @return: Dictionary with sequence IDs as keys and sequences as values in string format.\n",
    "\n",
    "    sequences = {}\n",
    "\n",
    "    with open(fasta_path, 'r') as fasta_file:\n",
    "        seq_id = None\n",
    "        seq_lines = []\n",
    "\n",
    "        for line in fasta_file:\n",
    "            line = line.strip()\n",
    "            if line.startswith('>'):\n",
    "                if seq_id is not None:\n",
    "                    sequences[seq_id] = ''.join(seq_lines)\n",
    "                seq_id = line[1:].split()[0]  # Get the sequence ID \n",
    "                seq_lines = []\n",
    "            else:\n",
    "                seq_lines.append(line)\n",
    "        if seq_id is not None:\n",
    "            sequences[seq_id] = ''.join(seq_lines)  # Add the last sequence\n",
    "    return sequences"
   ]
  },
  {
   "cell_type": "code",
   "execution_count": 2,
   "id": "392d2bdc",
   "metadata": {},
   "outputs": [],
   "source": [
    "def gc(sequence):\n",
    "    # Calculates the GC content of a given DNA sequence.\n",
    "    # @param sequence: DNA sequence in string format.\n",
    "    # @return: GC content as a percentage.\n",
    "    \n",
    "    gc_count = sequence.count('G') + sequence.count('C')\n",
    "    gc_content = (gc_count / len(sequence)) * 100\n",
    "    return gc_content"
   ]
  },
  {
   "cell_type": "code",
   "execution_count": 3,
   "id": "2be6bc0b",
   "metadata": {},
   "outputs": [
    {
     "name": "stdout",
     "output_type": "stream",
     "text": [
      "Rosalind_4947\n",
      "53.67647058823529\n"
     ]
    }
   ],
   "source": [
    "# Obtaining the sequence id with the highest GC content\n",
    "fasta_path = '../data/rosalind_gc.txt'\n",
    "\n",
    "sequences = parseFASTA(fasta_path)\n",
    "highest_gc_id = None\n",
    "\n",
    "for seq_id, sequence in sequences.items():\n",
    "    if highest_gc_id is None or gc(sequence) > gc(sequences[highest_gc_id]):\n",
    "        highest_gc_id = seq_id\n",
    "\n",
    "print(highest_gc_id)\n",
    "print(gc(sequences[highest_gc_id]))"
   ]
  }
 ],
 "metadata": {
  "kernelspec": {
   "display_name": "base",
   "language": "python",
   "name": "python3"
  },
  "language_info": {
   "codemirror_mode": {
    "name": "ipython",
    "version": 3
   },
   "file_extension": ".py",
   "mimetype": "text/x-python",
   "name": "python",
   "nbconvert_exporter": "python",
   "pygments_lexer": "ipython3",
   "version": "3.12.4"
  }
 },
 "nbformat": 4,
 "nbformat_minor": 5
}
